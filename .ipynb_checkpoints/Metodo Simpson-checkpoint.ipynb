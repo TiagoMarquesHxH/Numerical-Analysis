{
 "cells": [
  {
   "cell_type": "code",
   "execution_count": 12,
   "id": "d54bc125-9d6b-4641-aeb5-06ab13d4c7a3",
   "metadata": {},
   "outputs": [],
   "source": [
    "import numpy as np"
   ]
  },
  {
   "cell_type": "code",
   "execution_count": 15,
   "id": "799c2ab4-d538-44d4-ac9f-4e95cb461830",
   "metadata": {},
   "outputs": [],
   "source": [
    "def euler (x):\n",
    "    f = 2.718**x\n",
    "    return f\n",
    "\n",
    "def simpson (x0, x1, x2):\n",
    "    for i in np.arange(0,2, 0.5):\n",
    "        h = (x1 - x0)\n",
    "        f = (h/3)*(euler(x0) * 4*(euler(x1)) + euler(x2))\n",
    "        x0 = x1\n",
    "        x1 = x2\n",
    "        if x2 == 2:\n",
    "            break\n",
    "        else:\n",
    "             x2 = x2+0.5\n",
    "    return f\n"
   ]
  },
  {
   "cell_type": "code",
   "execution_count": 16,
   "id": "0f0bc068-2ad5-418c-8bc1-c5434ace5da8",
   "metadata": {},
   "outputs": [
    {
     "data": {
      "text/plain": [
       "9.350811691616938"
      ]
     },
     "execution_count": 16,
     "metadata": {},
     "output_type": "execute_result"
    }
   ],
   "source": [
    "simpson (0, 0.5, 1)"
   ]
  },
  {
   "cell_type": "code",
   "execution_count": null,
   "id": "a9ac6e53-c4f1-4c68-acaa-ad106157f138",
   "metadata": {},
   "outputs": [],
   "source": []
  }
 ],
 "metadata": {
  "kernelspec": {
   "display_name": "ilumpy",
   "language": "python",
   "name": "ilumpy"
  },
  "language_info": {
   "codemirror_mode": {
    "name": "ipython",
    "version": 3
   },
   "file_extension": ".py",
   "mimetype": "text/x-python",
   "name": "python",
   "nbconvert_exporter": "python",
   "pygments_lexer": "ipython3",
   "version": "3.9.7"
  }
 },
 "nbformat": 4,
 "nbformat_minor": 5
}
