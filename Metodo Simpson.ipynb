{
 "cells": [
  {
   "cell_type": "code",
   "execution_count": 2,
   "id": "d54bc125-9d6b-4641-aeb5-06ab13d4c7a3",
   "metadata": {},
   "outputs": [],
   "source": [
    "import numpy as np"
   ]
  },
  {
   "cell_type": "code",
   "execution_count": 29,
   "id": "799c2ab4-d538-44d4-ac9f-4e95cb461830",
   "metadata": {},
   "outputs": [
    {
     "name": "stdout",
     "output_type": "stream",
     "text": [
      "O real valor exato da área determinada é 6.389 \n",
      "\n",
      "O método do trapézio aproximou a função e resultou no valor 8.387523999999999 \n",
      "\n",
      "O método de simpson aproximou a função e resultou no valor 6.196666666666666\n"
     ]
    }
   ],
   "source": [
    "def euler (x):\n",
    "    f = 2.718**x\n",
    "    return f\n",
    "\n",
    "print(\"O real valor exato da área determinada é 6.389 \\n\")\n",
    "\n",
    "def metodo_trapezio(a, b):\n",
    "    metodo = (euler(a)+euler(b))*(b-a)/2\n",
    "    return metodo\n",
    "\n",
    "a = 0\n",
    "b = 2\n",
    "pontos = 3\n",
    "espaco = np.linspace(a,b,pontos)\n",
    "\n",
    "print(f'O método do trapézio aproximou a função e resultou no valor {metodo_trapezio(0,2)} \\n')\n",
    "\n",
    "def simpson(f):\n",
    "    h = (b - a) / (pontos - 1)\n",
    "    simpson_m = (h/3) * (f[0] + 4*sum(f[0:pontos-1:1]) + f[1:pontos:1])\n",
    "    return simpson_m\n",
    "\n",
    "print (f'O método de simpson aproximou a função e resultou no valor {simpson(euler(espaco))[0]}')"
   ]
  },
  {
   "cell_type": "code",
   "execution_count": 120,
   "id": "e5213616-f468-40a4-ae38-a46b4810753f",
   "metadata": {},
   "outputs": [
    {
     "name": "stdout",
     "output_type": "stream",
     "text": [
      "Partição de pontos [-1.  -0.5  0.   0.5  1. ] \n",
      "\n",
      "Aproximação feita pelo metodo de simpson 1.481993744365178 \n",
      "\n",
      "Área exata: 1.49364\n"
     ]
    }
   ],
   "source": [
    "def expon(x):\n",
    "    f = 2.718 ** (-x**2)\n",
    "    return f\n",
    "\n",
    "pontos = 5\n",
    "a = -1\n",
    "b = 1\n",
    "espaco = np.linspace(a,b,pontos)\n",
    "print(\"Partição de pontos\", espaco, \"\\n\")\n",
    "\n",
    "def simpson_comp(g):\n",
    "    h = (b - a) / (pontos - 1)\n",
    "    simpson_m = (h/3) * (2*(sum(g[3:pontos:1])) + 4*(sum(g[3:pontos-1:1]) + sum(g[3:pontos:2])) + g[4])\n",
    "    return simpson_m\n",
    "\n",
    "print(\"Aproximação feita pelo metodo de simpson\", simpson_comp(expon(espaco)), \"\\n\")\n",
    "print(\"Área exata: 1.49364\")"
   ]
  }
 ],
 "metadata": {
  "kernelspec": {
   "display_name": "ilumpy",
   "language": "python",
   "name": "ilumpy"
  },
  "language_info": {
   "codemirror_mode": {
    "name": "ipython",
    "version": 3
   },
   "file_extension": ".py",
   "mimetype": "text/x-python",
   "name": "python",
   "nbconvert_exporter": "python",
   "pygments_lexer": "ipython3",
   "version": "3.9.7"
  }
 },
 "nbformat": 4,
 "nbformat_minor": 5
}
