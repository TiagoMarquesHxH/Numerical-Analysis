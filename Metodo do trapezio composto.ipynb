{
 "cells": [
  {
   "cell_type": "markdown",
   "id": "5e8ce98d-36bb-49bd-92a8-f482bd2ee3ab",
   "metadata": {},
   "source": [
    "### Método de integração numérica - Método do trapézio\n",
    "\n",
    "Algumas funções conhecidas são difíceis de se integrar, devido à sua complexidade ou número de termos. Para isso, assim como aproximamos o comportamento de soluções de funções, podemos aproximar a área de uma integral de uma função, através da construção de trapezóides sob a área da integral.\n",
    "\n",
    "Existem dois métodos de aproximação por trapézios:\n",
    "\n",
    "    - Trapézio simples: É definido um trapézio através de uma linha que ligue o ponto inicial e final da região de integração, dando uma aproximação brusca da área da integral.\n",
    "    - Trapézio composto: São definidas várias partições dentre a função, ou seja, vários intervalos. Um trapézio é, então, construído a partir do ponto inicial e final daquela partição. Logo, quanto mais partições na função, mais aproximado será o resultado.\n",
    "    \n",
    "Neste algoritmo, vamos aproximar uma função conhecida a partir dos métodos de trapézio simples e composto\n",
    "\n",
    "$$\\int_{0}^{48} \\sqrt{1 + cos(x) dx}$$"
   ]
  },
  {
   "cell_type": "code",
   "execution_count": 1,
   "id": "208770d5-9ad5-4d77-b76e-b7597307ff75",
   "metadata": {},
   "outputs": [],
   "source": [
    "# Import das bibliotecas necessárias\n",
    "\n",
    "import numpy as np\n",
    "import math"
   ]
  },
  {
   "cell_type": "code",
   "execution_count": 2,
   "id": "52dc2d3b-375d-430f-9a26-7fa8fa092b8a",
   "metadata": {},
   "outputs": [],
   "source": [
    "# Função conhecida porém com solução analítica não resolvida explicitamente\n",
    "def funcao (x):\n",
    "    f = np.sqrt(1 + (math.cos(x)**2))\n",
    "    return f"
   ]
  },
  {
   "cell_type": "code",
   "execution_count": 3,
   "id": "72a957ba-72a3-4f48-970c-0a2b2fb5a231",
   "metadata": {},
   "outputs": [],
   "source": [
    "# Método do trapézio simples\n",
    "\n",
    "def metodo_trapezio(a, b):\n",
    "    metodo = (funcao(a)+funcao(b))*(b-a)/2\n",
    "    return metodo"
   ]
  },
  {
   "cell_type": "code",
   "execution_count": 4,
   "id": "63fe4c5e-80c4-481d-a043-d1efd7356866",
   "metadata": {},
   "outputs": [
    {
     "data": {
      "text/plain": [
       "1.4142135623730951"
      ]
     },
     "execution_count": 4,
     "metadata": {},
     "output_type": "execute_result"
    }
   ],
   "source": [
    "# Valor de x = 0 na função\n",
    "\n",
    "funcao(0)"
   ]
  },
  {
   "cell_type": "code",
   "execution_count": 5,
   "id": "d557d3e2-670a-4a40-bdd7-72099c2b2b93",
   "metadata": {},
   "outputs": [
    {
     "data": {
      "text/plain": [
       "1.1873435793208544"
      ]
     },
     "execution_count": 5,
     "metadata": {},
     "output_type": "execute_result"
    }
   ],
   "source": [
    "# Valor de x = 48 na função\n",
    "\n",
    "funcao(48)"
   ]
  },
  {
   "cell_type": "code",
   "execution_count": 6,
   "id": "3f5e31e8-56b2-4349-affe-5c4163424197",
   "metadata": {},
   "outputs": [
    {
     "data": {
      "text/plain": [
       "62.43737140065479"
      ]
     },
     "execution_count": 6,
     "metadata": {},
     "output_type": "execute_result"
    }
   ],
   "source": [
    "# Aplicação do método do trapézio simples na função conhecida\n",
    "\n",
    "metodo_trapezio(0, 48)"
   ]
  },
  {
   "cell_type": "code",
   "execution_count": 40,
   "id": "a13caf08-fc11-4f3a-8bdd-d172d0ce210c",
   "metadata": {},
   "outputs": [],
   "source": [
    "# Método do trapézio composto\n",
    "\n",
    "def metodo_trapezio_comp(passo, a, b):\n",
    "    lista = []\n",
    "    '''\n",
    "    for j in range(a, b+1, passo):\n",
    "        if j == 0:\n",
    "            print(\"oi\")\n",
    "        else:\n",
    "            lista.append((j))\n",
    "        print(lista)\n",
    "        print(j)\n",
    "    for i in lista:\n",
    "        metodo = (funcao(i) + funcao((i+passo))) * (passo)/2\n",
    "    return metodo\n",
    "    '''\n",
    "    cont = (b - a) / passo\n",
    "    print(cont)\n",
    "    while cont != 0:\n",
    "        B = a + passo\n",
    "        x = metodo_trapezio(a,B)\n",
    "        a = passo + a\n",
    "        B = passo + B\n",
    "        lista.append(x)\n",
    "        \n",
    "        cont = cont - 1\n",
    "    print(lista)\n",
    "    return sum(lista)"
   ]
  },
  {
   "cell_type": "code",
   "execution_count": 41,
   "id": "62f1f709-9a9a-4acb-97a3-d20a044698f2",
   "metadata": {},
   "outputs": [
    {
     "name": "stdout",
     "output_type": "stream",
     "text": [
      "4.0\n",
      "[16.336091659302525, 14.368279263858897, 12.566393627942933, 13.172986125073116]\n"
     ]
    },
    {
     "data": {
      "text/plain": [
       "56.443750676177466"
      ]
     },
     "execution_count": 41,
     "metadata": {},
     "output_type": "execute_result"
    }
   ],
   "source": [
    "# Aplicação do método do trapézio composto na função conhecida\n",
    "\n",
    "metodo_trapezio_comp(12, 0, 48)"
   ]
  }
 ],
 "metadata": {
  "kernelspec": {
   "display_name": "ilumpy",
   "language": "python",
   "name": "ilumpy"
  },
  "language_info": {
   "codemirror_mode": {
    "name": "ipython",
    "version": 3
   },
   "file_extension": ".py",
   "mimetype": "text/x-python",
   "name": "python",
   "nbconvert_exporter": "python",
   "pygments_lexer": "ipython3",
   "version": "3.9.7"
  }
 },
 "nbformat": 4,
 "nbformat_minor": 5
}
